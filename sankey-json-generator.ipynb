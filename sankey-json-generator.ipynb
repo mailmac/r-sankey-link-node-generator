{
 "metadata": {
  "language_info": {
   "codemirror_mode": {
    "name": "ipython",
    "version": 3
   },
   "file_extension": ".py",
   "mimetype": "text/x-python",
   "name": "python",
   "nbconvert_exporter": "python",
   "pygments_lexer": "ipython3",
   "version": "3.8.3-final"
  },
  "orig_nbformat": 2,
  "kernelspec": {
   "name": "python3",
   "display_name": "Python 3.8.3 64-bit (conda)",
   "metadata": {
    "interpreter": {
     "hash": "9c6ec8e1a023360e091bec9086ce92f09162640d29c5a49d130e6e201f0d5b0c"
    }
   }
  }
 },
 "nbformat": 4,
 "nbformat_minor": 2,
 "cells": [
  {
   "cell_type": "code",
   "execution_count": 2,
   "metadata": {},
   "outputs": [
    {
     "output_type": "execute_result",
     "data": {
      "text/plain": [
       "'{\"nodes\":[{\"name\":\"maf\"},{\"name\":\"Bio-conversion\"},{\"name\":\"Coal\"},{\"name\":\"Other waste\"},{\"name\":\"agriculural \\'waste\\'\"}],\"links\":[{\"source\":0,\"target\":1,\"value\":124},{\"source\":2,\"target\":1,\"value\":1},{\"source\":3,\"target\":0,\"value\":2},{\"source\":4,\"target\":1,\"value\":35}]}'"
      ]
     },
     "metadata": {},
     "execution_count": 2
    }
   ],
   "source": [
    "def build_nodes(links):\n",
    "    names = []\n",
    "    for i in links:\n",
    "        if i[0] not in names: names.append(i[0])\n",
    "        if i[1] not in names: names.append(i[1])\n",
    "    converted_names = ['{{\"name\":\"{0}\"}}'.format(element) for element in names]\n",
    "    return \",\".join(converted_names), names;\n",
    "\n",
    "def build_links(links, names):\n",
    "    converted_links = ['{{\"source\":{0},\"target\":{1},\"value\":{2}}}'.format(names.index(element[0]), names.index(element[1]), element[2]) for element in links]\n",
    "    return \",\".join(converted_links)\n",
    "\n",
    "file = open('sample-data.csv',mode='r')\n",
    "csvdata = file.read()\n",
    "file.close()\n",
    "\n",
    "links = []\n",
    "for i in csvdata.splitlines():\n",
    "        links.append(i.split(\",\"))\n",
    "\n",
    "names_json, names = build_nodes(links)\n",
    "links_json = build_links(links, names)\n",
    "nodes_and_links_json = '{{\"nodes\":[{0}],\"links\":[{1}]}}'.format(names_json, links_json)\n",
    "nodes_and_links_json\n"
   ]
  },
  {
   "cell_type": "code",
   "execution_count": null,
   "metadata": {},
   "outputs": [],
   "source": []
  }
 ]
}